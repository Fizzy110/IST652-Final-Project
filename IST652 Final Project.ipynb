{
 "cells": [
  {
   "cell_type": "code",
   "execution_count": 28,
   "metadata": {},
   "outputs": [],
   "source": [
    "import pandas as pd\n",
    "import numpy as np"
   ]
  },
  {
   "cell_type": "code",
   "execution_count": 2,
   "metadata": {},
   "outputs": [],
   "source": [
    "data = pd.read_csv('listings.csv')"
   ]
  },
  {
   "cell_type": "code",
   "execution_count": 3,
   "metadata": {},
   "outputs": [],
   "source": [
    "#check the dataset's info to decide what should be include in our subset\n",
    "#data.info()"
   ]
  },
  {
   "cell_type": "code",
   "execution_count": 4,
   "metadata": {},
   "outputs": [],
   "source": [
    "#make subset for linear predicting\n",
    "data_v1 = data[['neighbourhood','city','is_location_exact','host_is_superhost','property_type','room_type'\n",
    "            ,'instant_bookable','cancellation_policy','latitude','longitude','accommodates','bathrooms'\n",
    "            ,'bedrooms','extra_people','minimum_nights','maximum_nights'\n",
    "            ,'security_deposit','price']]"
   ]
  },
  {
   "cell_type": "code",
   "execution_count": 5,
   "metadata": {},
   "outputs": [
    {
     "data": {
      "text/html": [
       "<div>\n",
       "<style scoped>\n",
       "    .dataframe tbody tr th:only-of-type {\n",
       "        vertical-align: middle;\n",
       "    }\n",
       "\n",
       "    .dataframe tbody tr th {\n",
       "        vertical-align: top;\n",
       "    }\n",
       "\n",
       "    .dataframe thead th {\n",
       "        text-align: right;\n",
       "    }\n",
       "</style>\n",
       "<table border=\"1\" class=\"dataframe\">\n",
       "  <thead>\n",
       "    <tr style=\"text-align: right;\">\n",
       "      <th></th>\n",
       "      <th>neighbourhood</th>\n",
       "      <th>city</th>\n",
       "      <th>is_location_exact</th>\n",
       "      <th>host_is_superhost</th>\n",
       "      <th>property_type</th>\n",
       "      <th>room_type</th>\n",
       "      <th>instant_bookable</th>\n",
       "      <th>cancellation_policy</th>\n",
       "      <th>latitude</th>\n",
       "      <th>longitude</th>\n",
       "      <th>accommodates</th>\n",
       "      <th>bathrooms</th>\n",
       "      <th>bedrooms</th>\n",
       "      <th>extra_people</th>\n",
       "      <th>minimum_nights</th>\n",
       "      <th>maximum_nights</th>\n",
       "      <th>security_deposit</th>\n",
       "      <th>price</th>\n",
       "    </tr>\n",
       "  </thead>\n",
       "  <tbody>\n",
       "    <tr>\n",
       "      <th>0</th>\n",
       "      <td>Queen Anne</td>\n",
       "      <td>Seattle</td>\n",
       "      <td>t</td>\n",
       "      <td>f</td>\n",
       "      <td>Apartment</td>\n",
       "      <td>Entire home/apt</td>\n",
       "      <td>f</td>\n",
       "      <td>moderate</td>\n",
       "      <td>47.636289</td>\n",
       "      <td>-122.371025</td>\n",
       "      <td>4</td>\n",
       "      <td>1.0</td>\n",
       "      <td>1.0</td>\n",
       "      <td>$5.00</td>\n",
       "      <td>1</td>\n",
       "      <td>365</td>\n",
       "      <td>NaN</td>\n",
       "      <td>$85.00</td>\n",
       "    </tr>\n",
       "    <tr>\n",
       "      <th>1</th>\n",
       "      <td>Queen Anne</td>\n",
       "      <td>Seattle</td>\n",
       "      <td>t</td>\n",
       "      <td>t</td>\n",
       "      <td>Apartment</td>\n",
       "      <td>Entire home/apt</td>\n",
       "      <td>f</td>\n",
       "      <td>strict</td>\n",
       "      <td>47.639123</td>\n",
       "      <td>-122.365666</td>\n",
       "      <td>4</td>\n",
       "      <td>1.0</td>\n",
       "      <td>1.0</td>\n",
       "      <td>$0.00</td>\n",
       "      <td>2</td>\n",
       "      <td>90</td>\n",
       "      <td>$100.00</td>\n",
       "      <td>$150.00</td>\n",
       "    </tr>\n",
       "    <tr>\n",
       "      <th>2</th>\n",
       "      <td>Queen Anne</td>\n",
       "      <td>Seattle</td>\n",
       "      <td>t</td>\n",
       "      <td>f</td>\n",
       "      <td>House</td>\n",
       "      <td>Entire home/apt</td>\n",
       "      <td>f</td>\n",
       "      <td>strict</td>\n",
       "      <td>47.629724</td>\n",
       "      <td>-122.369483</td>\n",
       "      <td>11</td>\n",
       "      <td>4.5</td>\n",
       "      <td>5.0</td>\n",
       "      <td>$25.00</td>\n",
       "      <td>4</td>\n",
       "      <td>30</td>\n",
       "      <td>$1,000.00</td>\n",
       "      <td>$975.00</td>\n",
       "    </tr>\n",
       "    <tr>\n",
       "      <th>3</th>\n",
       "      <td>Queen Anne</td>\n",
       "      <td>Seattle</td>\n",
       "      <td>t</td>\n",
       "      <td>f</td>\n",
       "      <td>Apartment</td>\n",
       "      <td>Entire home/apt</td>\n",
       "      <td>f</td>\n",
       "      <td>flexible</td>\n",
       "      <td>47.638473</td>\n",
       "      <td>-122.369279</td>\n",
       "      <td>3</td>\n",
       "      <td>1.0</td>\n",
       "      <td>0.0</td>\n",
       "      <td>$0.00</td>\n",
       "      <td>1</td>\n",
       "      <td>1125</td>\n",
       "      <td>NaN</td>\n",
       "      <td>$100.00</td>\n",
       "    </tr>\n",
       "    <tr>\n",
       "      <th>4</th>\n",
       "      <td>Queen Anne</td>\n",
       "      <td>Seattle</td>\n",
       "      <td>t</td>\n",
       "      <td>f</td>\n",
       "      <td>House</td>\n",
       "      <td>Entire home/apt</td>\n",
       "      <td>f</td>\n",
       "      <td>strict</td>\n",
       "      <td>47.632918</td>\n",
       "      <td>-122.372471</td>\n",
       "      <td>6</td>\n",
       "      <td>2.0</td>\n",
       "      <td>3.0</td>\n",
       "      <td>$15.00</td>\n",
       "      <td>1</td>\n",
       "      <td>1125</td>\n",
       "      <td>$700.00</td>\n",
       "      <td>$450.00</td>\n",
       "    </tr>\n",
       "  </tbody>\n",
       "</table>\n",
       "</div>"
      ],
      "text/plain": [
       "  neighbourhood     city is_location_exact host_is_superhost property_type  \\\n",
       "0    Queen Anne  Seattle                 t                 f     Apartment   \n",
       "1    Queen Anne  Seattle                 t                 t     Apartment   \n",
       "2    Queen Anne  Seattle                 t                 f         House   \n",
       "3    Queen Anne  Seattle                 t                 f     Apartment   \n",
       "4    Queen Anne  Seattle                 t                 f         House   \n",
       "\n",
       "         room_type instant_bookable cancellation_policy   latitude  \\\n",
       "0  Entire home/apt                f            moderate  47.636289   \n",
       "1  Entire home/apt                f              strict  47.639123   \n",
       "2  Entire home/apt                f              strict  47.629724   \n",
       "3  Entire home/apt                f            flexible  47.638473   \n",
       "4  Entire home/apt                f              strict  47.632918   \n",
       "\n",
       "    longitude  accommodates  bathrooms  bedrooms extra_people  minimum_nights  \\\n",
       "0 -122.371025             4        1.0       1.0        $5.00               1   \n",
       "1 -122.365666             4        1.0       1.0        $0.00               2   \n",
       "2 -122.369483            11        4.5       5.0       $25.00               4   \n",
       "3 -122.369279             3        1.0       0.0        $0.00               1   \n",
       "4 -122.372471             6        2.0       3.0       $15.00               1   \n",
       "\n",
       "   maximum_nights security_deposit    price  \n",
       "0             365              NaN   $85.00  \n",
       "1              90          $100.00  $150.00  \n",
       "2              30        $1,000.00  $975.00  \n",
       "3            1125              NaN  $100.00  \n",
       "4            1125          $700.00  $450.00  "
      ]
     },
     "execution_count": 5,
     "metadata": {},
     "output_type": "execute_result"
    }
   ],
   "source": [
    "data_v1.head(5)"
   ]
  },
  {
   "cell_type": "code",
   "execution_count": 6,
   "metadata": {},
   "outputs": [
    {
     "data": {
      "text/plain": [
       "neighbourhood           416\n",
       "city                      0\n",
       "is_location_exact         0\n",
       "host_is_superhost         2\n",
       "property_type             1\n",
       "room_type                 0\n",
       "instant_bookable          0\n",
       "cancellation_policy       0\n",
       "latitude                  0\n",
       "longitude                 0\n",
       "accommodates              0\n",
       "bathrooms                16\n",
       "bedrooms                  6\n",
       "extra_people              0\n",
       "minimum_nights            0\n",
       "maximum_nights            0\n",
       "security_deposit       1952\n",
       "price                     0\n",
       "dtype: int64"
      ]
     },
     "execution_count": 6,
     "metadata": {},
     "output_type": "execute_result"
    }
   ],
   "source": [
    "data_v1.isnull().sum()"
   ]
  },
  {
   "cell_type": "code",
   "execution_count": 7,
   "metadata": {},
   "outputs": [
    {
     "name": "stdout",
     "output_type": "stream",
     "text": [
      "The percentage of missing values of security_deposit column: \n",
      "0.5112624410686223\n"
     ]
    }
   ],
   "source": [
    "print('The percentage of missing values of security_deposit column: ')\n",
    "print(1952/3818)"
   ]
  },
  {
   "cell_type": "code",
   "execution_count": 8,
   "metadata": {},
   "outputs": [],
   "source": [
    "#based on the percentage, we decide to drop the security_deposit col\n",
    "data_v2 = data_v1.drop(columns = 'security_deposit')"
   ]
  },
  {
   "cell_type": "code",
   "execution_count": 9,
   "metadata": {},
   "outputs": [
    {
     "data": {
      "text/plain": [
       "Capitol Hill          351\n",
       "Ballard               213\n",
       "Belltown              204\n",
       "Minor                 192\n",
       "Queen Anne            187\n",
       "                     ... \n",
       "Pike Market             2\n",
       "South Beacon Hill       2\n",
       "Fairmount Park          1\n",
       "Roxhill                 1\n",
       "North College Park      1\n",
       "Name: neighbourhood, Length: 81, dtype: int64"
      ]
     },
     "execution_count": 9,
     "metadata": {},
     "output_type": "execute_result"
    }
   ],
   "source": [
    "#check the value counts of neighbourhood\n",
    "data_v2.neighbourhood.value_counts()"
   ]
  },
  {
   "cell_type": "code",
   "execution_count": 10,
   "metadata": {},
   "outputs": [],
   "source": [
    "#drop neighbourhood because the values are too separate\n",
    "data_v3 = data_v2.drop(columns = 'neighbourhood')"
   ]
  },
  {
   "cell_type": "code",
   "execution_count": 11,
   "metadata": {},
   "outputs": [
    {
     "data": {
      "text/plain": [
       "House              1733\n",
       "Apartment          1708\n",
       "Townhouse           118\n",
       "Condominium          91\n",
       "Loft                 40\n",
       "Bed & Breakfast      37\n",
       "Other                22\n",
       "Cabin                21\n",
       "Camper/RV            13\n",
       "Bungalow             13\n",
       "Boat                  8\n",
       "Tent                  5\n",
       "Treehouse             3\n",
       "Chalet                2\n",
       "Dorm                  2\n",
       "Yurt                  1\n",
       "Name: property_type, dtype: int64"
      ]
     },
     "execution_count": 11,
     "metadata": {},
     "output_type": "execute_result"
    }
   ],
   "source": [
    "data_v3.property_type.value_counts()"
   ]
  },
  {
   "cell_type": "code",
   "execution_count": 12,
   "metadata": {},
   "outputs": [],
   "source": [
    "#extract the most popular property type\n",
    "data_v4 = data_v3[(data_v3['property_type']=='House') | (data_v3['property_type']=='Apartment') | (data_v3['property_type'] == 'Townhouse')\n",
    "                 |(data_v3['property_type']=='Condominium')|(data_v3['property_type']=='Loft')]\n"
   ]
  },
  {
   "cell_type": "code",
   "execution_count": 13,
   "metadata": {},
   "outputs": [],
   "source": [
    "#drop any missing values\n",
    "data_v5 = data_v4.dropna(axis=0,how='any')"
   ]
  },
  {
   "cell_type": "code",
   "execution_count": 14,
   "metadata": {},
   "outputs": [
    {
     "data": {
      "text/plain": [
       "Seattle                  3660\n",
       "West Seattle                2\n",
       "Seattle                     2\n",
       "Ballard, Seattle            1\n",
       "seattle                     1\n",
       "西雅图                         1\n",
       "Phinney Ridge Seattle       1\n",
       "Name: city, dtype: int64"
      ]
     },
     "execution_count": 14,
     "metadata": {},
     "output_type": "execute_result"
    }
   ],
   "source": [
    "data_v5.city.value_counts()"
   ]
  },
  {
   "cell_type": "code",
   "execution_count": 15,
   "metadata": {},
   "outputs": [],
   "source": [
    "data_v6 = data_v5[(data_v5['city']=='Seattle')]"
   ]
  },
  {
   "cell_type": "code",
   "execution_count": 16,
   "metadata": {},
   "outputs": [
    {
     "name": "stderr",
     "output_type": "stream",
     "text": [
      "/opt/anaconda3/lib/python3.7/site-packages/ipykernel_launcher.py:4: SettingWithCopyWarning: \n",
      "A value is trying to be set on a copy of a slice from a DataFrame.\n",
      "Try using .loc[row_indexer,col_indexer] = value instead\n",
      "\n",
      "See the caveats in the documentation: https://pandas.pydata.org/pandas-docs/stable/user_guide/indexing.html#returning-a-view-versus-a-copy\n",
      "  after removing the cwd from sys.path.\n",
      "/opt/anaconda3/lib/python3.7/site-packages/ipykernel_launcher.py:8: SettingWithCopyWarning: \n",
      "A value is trying to be set on a copy of a slice from a DataFrame.\n",
      "Try using .loc[row_indexer,col_indexer] = value instead\n",
      "\n",
      "See the caveats in the documentation: https://pandas.pydata.org/pandas-docs/stable/user_guide/indexing.html#returning-a-view-versus-a-copy\n",
      "  \n",
      "/opt/anaconda3/lib/python3.7/site-packages/ipykernel_launcher.py:12: SettingWithCopyWarning: \n",
      "A value is trying to be set on a copy of a slice from a DataFrame.\n",
      "Try using .loc[row_indexer,col_indexer] = value instead\n",
      "\n",
      "See the caveats in the documentation: https://pandas.pydata.org/pandas-docs/stable/user_guide/indexing.html#returning-a-view-versus-a-copy\n",
      "  if sys.path[0] == '':\n"
     ]
    }
   ],
   "source": [
    "#One hot encoding for categorical values:\n",
    "#1.\n",
    "is_location_exactMap = {elem:index for index,elem in enumerate(set(data_v6[\"is_location_exact\"]))}\n",
    "data_v6[\"is_location_exact\"] = data_v6[\"is_location_exact\"].map(is_location_exactMap)\n",
    "\n",
    "#2.\n",
    "host_is_superhostMap = {elem:index for index,elem in enumerate(set(data_v6[\"host_is_superhost\"]))}\n",
    "data_v6[\"host_is_superhost\"] = data_v6[\"host_is_superhost\"].map(host_is_superhostMap)\n",
    "\n",
    "#3.\n",
    "instant_bookableMap = {elem:index for index,elem in enumerate(set(data_v6[\"instant_bookable\"]))}\n",
    "data_v6[\"instant_bookable\"] = data_v6[\"instant_bookable\"].map(instant_bookableMap)"
   ]
  },
  {
   "cell_type": "code",
   "execution_count": 17,
   "metadata": {},
   "outputs": [
    {
     "name": "stderr",
     "output_type": "stream",
     "text": [
      "/opt/anaconda3/lib/python3.7/site-packages/pandas/core/frame.py:2963: SettingWithCopyWarning: \n",
      "A value is trying to be set on a copy of a slice from a DataFrame.\n",
      "Try using .loc[row_indexer,col_indexer] = value instead\n",
      "\n",
      "See the caveats in the documentation: https://pandas.pydata.org/pandas-docs/stable/user_guide/indexing.html#returning-a-view-versus-a-copy\n",
      "  self[k1] = value[k2]\n"
     ]
    }
   ],
   "source": [
    "#label encoding:\n",
    "from sklearn.preprocessing import LabelEncoder\n",
    "data_v6[['property_type','room_type','cancellation_policy']] = data_v6[['property_type','room_type','cancellation_policy']].apply(LabelEncoder().fit_transform)"
   ]
  },
  {
   "cell_type": "code",
   "execution_count": 19,
   "metadata": {},
   "outputs": [
    {
     "name": "stderr",
     "output_type": "stream",
     "text": [
      "/opt/anaconda3/lib/python3.7/site-packages/ipykernel_launcher.py:5: SettingWithCopyWarning: \n",
      "A value is trying to be set on a copy of a slice from a DataFrame.\n",
      "Try using .loc[row_indexer,col_indexer] = value instead\n",
      "\n",
      "See the caveats in the documentation: https://pandas.pydata.org/pandas-docs/stable/user_guide/indexing.html#returning-a-view-versus-a-copy\n",
      "  \"\"\"\n",
      "/opt/anaconda3/lib/python3.7/site-packages/ipykernel_launcher.py:9: SettingWithCopyWarning: \n",
      "A value is trying to be set on a copy of a slice from a DataFrame.\n",
      "Try using .loc[row_indexer,col_indexer] = value instead\n",
      "\n",
      "See the caveats in the documentation: https://pandas.pydata.org/pandas-docs/stable/user_guide/indexing.html#returning-a-view-versus-a-copy\n",
      "  if __name__ == '__main__':\n",
      "/opt/anaconda3/lib/python3.7/site-packages/ipykernel_launcher.py:13: SettingWithCopyWarning: \n",
      "A value is trying to be set on a copy of a slice from a DataFrame.\n",
      "Try using .loc[row_indexer,col_indexer] = value instead\n",
      "\n",
      "See the caveats in the documentation: https://pandas.pydata.org/pandas-docs/stable/user_guide/indexing.html#returning-a-view-versus-a-copy\n",
      "  del sys.path[0]\n",
      "/opt/anaconda3/lib/python3.7/site-packages/ipykernel_launcher.py:17: SettingWithCopyWarning: \n",
      "A value is trying to be set on a copy of a slice from a DataFrame.\n",
      "Try using .loc[row_indexer,col_indexer] = value instead\n",
      "\n",
      "See the caveats in the documentation: https://pandas.pydata.org/pandas-docs/stable/user_guide/indexing.html#returning-a-view-versus-a-copy\n",
      "/opt/anaconda3/lib/python3.7/site-packages/ipykernel_launcher.py:21: SettingWithCopyWarning: \n",
      "A value is trying to be set on a copy of a slice from a DataFrame.\n",
      "Try using .loc[row_indexer,col_indexer] = value instead\n",
      "\n",
      "See the caveats in the documentation: https://pandas.pydata.org/pandas-docs/stable/user_guide/indexing.html#returning-a-view-versus-a-copy\n",
      "/opt/anaconda3/lib/python3.7/site-packages/ipykernel_launcher.py:25: SettingWithCopyWarning: \n",
      "A value is trying to be set on a copy of a slice from a DataFrame.\n",
      "Try using .loc[row_indexer,col_indexer] = value instead\n",
      "\n",
      "See the caveats in the documentation: https://pandas.pydata.org/pandas-docs/stable/user_guide/indexing.html#returning-a-view-versus-a-copy\n",
      "/opt/anaconda3/lib/python3.7/site-packages/ipykernel_launcher.py:29: SettingWithCopyWarning: \n",
      "A value is trying to be set on a copy of a slice from a DataFrame.\n",
      "Try using .loc[row_indexer,col_indexer] = value instead\n",
      "\n",
      "See the caveats in the documentation: https://pandas.pydata.org/pandas-docs/stable/user_guide/indexing.html#returning-a-view-versus-a-copy\n"
     ]
    }
   ],
   "source": [
    "from sklearn.preprocessing import StandardScaler\n",
    "std = StandardScaler()\n",
    "#1.\n",
    "accommodates_param = std.fit(data_v6['accommodates'].values.reshape(-1, 1))\n",
    "data_v6['accommodates'] = std.fit_transform(data_v6['accommodates'].values.reshape(-1, 1), accommodates_param)\n",
    "\n",
    "#2.\n",
    "bathrooms_param = std.fit(data_v6['bathrooms'].values.reshape(-1, 1))\n",
    "data_v6['bathrooms'] = std.fit_transform(data_v6['bathrooms'].values.reshape(-1, 1), bathrooms_param)\n",
    "\n",
    "#3.\n",
    "bedrooms_param = std.fit(data_v6['bedrooms'].values.reshape(-1, 1))\n",
    "data_v6['bedrooms'] = std.fit_transform(data_v6['bedrooms'].values.reshape(-1, 1), bedrooms_param)\n",
    "\n",
    "#4.\n",
    "minimum_nights_param = std.fit(data_v6['minimum_nights'].values.reshape(-1, 1))\n",
    "data_v6['minimum_nights'] = std.fit_transform(data_v6['minimum_nights'].values.reshape(-1, 1), minimum_nights_param)\n",
    "\n",
    "#5.\n",
    "maximum_nights_param = std.fit(data_v6['maximum_nights'].values.reshape(-1, 1))\n",
    "data_v6['maximum_nights'] = std.fit_transform(data_v6['maximum_nights'].values.reshape(-1, 1), maximum_nights_param)\n",
    "\n",
    "#6.\n",
    "latitude_param = std.fit(data_v6['latitude'].values.reshape(-1, 1))\n",
    "data_v6['latitude'] = std.fit_transform(data_v6['latitude'].values.reshape(-1, 1), latitude_param)\n",
    "\n",
    "#7.\n",
    "longitude_param = std.fit(data_v6['longitude'].values.reshape(-1, 1))\n",
    "data_v6['longitude'] = std.fit_transform(data_v6['longitude'].values.reshape(-1, 1), longitude_param)"
   ]
  },
  {
   "cell_type": "code",
   "execution_count": 31,
   "metadata": {},
   "outputs": [],
   "source": [
    "#striping extra_peopel and price cols\n",
    "def dollar_sign_replace(xstr):\n",
    "    return xstr.replace('$','')\n",
    "def comma_replace(xstr):\n",
    "    return xstr.replace(',','')"
   ]
  },
  {
   "cell_type": "code",
   "execution_count": 32,
   "metadata": {},
   "outputs": [
    {
     "name": "stderr",
     "output_type": "stream",
     "text": [
      "/opt/anaconda3/lib/python3.7/site-packages/ipykernel_launcher.py:2: SettingWithCopyWarning: \n",
      "A value is trying to be set on a copy of a slice from a DataFrame.\n",
      "Try using .loc[row_indexer,col_indexer] = value instead\n",
      "\n",
      "See the caveats in the documentation: https://pandas.pydata.org/pandas-docs/stable/user_guide/indexing.html#returning-a-view-versus-a-copy\n",
      "  \n",
      "/opt/anaconda3/lib/python3.7/site-packages/ipykernel_launcher.py:3: SettingWithCopyWarning: \n",
      "A value is trying to be set on a copy of a slice from a DataFrame.\n",
      "Try using .loc[row_indexer,col_indexer] = value instead\n",
      "\n",
      "See the caveats in the documentation: https://pandas.pydata.org/pandas-docs/stable/user_guide/indexing.html#returning-a-view-versus-a-copy\n",
      "  This is separate from the ipykernel package so we can avoid doing imports until\n",
      "/opt/anaconda3/lib/python3.7/site-packages/ipykernel_launcher.py:5: SettingWithCopyWarning: \n",
      "A value is trying to be set on a copy of a slice from a DataFrame.\n",
      "Try using .loc[row_indexer,col_indexer] = value instead\n",
      "\n",
      "See the caveats in the documentation: https://pandas.pydata.org/pandas-docs/stable/user_guide/indexing.html#returning-a-view-versus-a-copy\n",
      "  \"\"\"\n",
      "/opt/anaconda3/lib/python3.7/site-packages/ipykernel_launcher.py:6: SettingWithCopyWarning: \n",
      "A value is trying to be set on a copy of a slice from a DataFrame.\n",
      "Try using .loc[row_indexer,col_indexer] = value instead\n",
      "\n",
      "See the caveats in the documentation: https://pandas.pydata.org/pandas-docs/stable/user_guide/indexing.html#returning-a-view-versus-a-copy\n",
      "  \n"
     ]
    }
   ],
   "source": [
    "#1\n",
    "data_v6['price'] = data_v6['price'].apply(dollar_sign_replace)\n",
    "data_v6['extra_people'] = data_v6['extra_people'].apply(dollar_sign_replace)\n",
    "#2\n",
    "data_v6['price'] = data_v6['price'].apply(comma_replace)\n",
    "data_v6['extra_people'] = data_v6['extra_people'].apply(comma_replace)"
   ]
  },
  {
   "cell_type": "code",
   "execution_count": 36,
   "metadata": {},
   "outputs": [],
   "source": [
    "#cast the above two variables into float type\n",
    "data_v6[['extra_people','price']] = data_v6[['extra_people','price']].astype(int)"
   ]
  },
  {
   "cell_type": "code",
   "execution_count": 40,
   "metadata": {},
   "outputs": [
    {
     "name": "stderr",
     "output_type": "stream",
     "text": [
      "/opt/anaconda3/lib/python3.7/site-packages/ipykernel_launcher.py:4: SettingWithCopyWarning: \n",
      "A value is trying to be set on a copy of a slice from a DataFrame.\n",
      "Try using .loc[row_indexer,col_indexer] = value instead\n",
      "\n",
      "See the caveats in the documentation: https://pandas.pydata.org/pandas-docs/stable/user_guide/indexing.html#returning-a-view-versus-a-copy\n",
      "  after removing the cwd from sys.path.\n",
      "/opt/anaconda3/lib/python3.7/site-packages/ipykernel_launcher.py:8: SettingWithCopyWarning: \n",
      "A value is trying to be set on a copy of a slice from a DataFrame.\n",
      "Try using .loc[row_indexer,col_indexer] = value instead\n",
      "\n",
      "See the caveats in the documentation: https://pandas.pydata.org/pandas-docs/stable/user_guide/indexing.html#returning-a-view-versus-a-copy\n",
      "  \n"
     ]
    }
   ],
   "source": [
    "#standardized the last two cols:\n",
    "#1\n",
    "extra_people_param = std.fit(data_v6['extra_people'].values.reshape(-1, 1))\n",
    "data_v6['extra_people'] = std.fit_transform(data_v6['extra_people'].values.reshape(-1, 1), extra_people_param)\n",
    "\n",
    "#2\n",
    "price_param = std.fit(data_v6['price'].values.reshape(-1, 1))\n",
    "data_v6['price'] = std.fit_transform(data_v6['price'].values.reshape(-1, 1), price_param)\n",
    "\n"
   ]
  },
  {
   "cell_type": "code",
   "execution_count": 55,
   "metadata": {},
   "outputs": [
    {
     "data": {
      "text/html": [
       "<div>\n",
       "<style scoped>\n",
       "    .dataframe tbody tr th:only-of-type {\n",
       "        vertical-align: middle;\n",
       "    }\n",
       "\n",
       "    .dataframe tbody tr th {\n",
       "        vertical-align: top;\n",
       "    }\n",
       "\n",
       "    .dataframe thead th {\n",
       "        text-align: right;\n",
       "    }\n",
       "</style>\n",
       "<table border=\"1\" class=\"dataframe\">\n",
       "  <thead>\n",
       "    <tr style=\"text-align: right;\">\n",
       "      <th></th>\n",
       "      <th>is_location_exact</th>\n",
       "      <th>host_is_superhost</th>\n",
       "      <th>property_type</th>\n",
       "      <th>room_type</th>\n",
       "      <th>instant_bookable</th>\n",
       "      <th>cancellation_policy</th>\n",
       "      <th>latitude</th>\n",
       "      <th>longitude</th>\n",
       "      <th>accommodates</th>\n",
       "      <th>bathrooms</th>\n",
       "      <th>bedrooms</th>\n",
       "      <th>extra_people</th>\n",
       "      <th>minimum_nights</th>\n",
       "      <th>maximum_nights</th>\n",
       "      <th>price</th>\n",
       "    </tr>\n",
       "  </thead>\n",
       "  <tbody>\n",
       "    <tr>\n",
       "      <th>0</th>\n",
       "      <td>1</td>\n",
       "      <td>0</td>\n",
       "      <td>0</td>\n",
       "      <td>0</td>\n",
       "      <td>0</td>\n",
       "      <td>1</td>\n",
       "      <td>0.168142</td>\n",
       "      <td>-1.202974</td>\n",
       "      <td>0.311967</td>\n",
       "      <td>-0.458886</td>\n",
       "      <td>-0.363202</td>\n",
       "      <td>-0.325113</td>\n",
       "      <td>-0.084131</td>\n",
       "      <td>-0.245880</td>\n",
       "      <td>-0.482516</td>\n",
       "    </tr>\n",
       "    <tr>\n",
       "      <th>1</th>\n",
       "      <td>1</td>\n",
       "      <td>1</td>\n",
       "      <td>0</td>\n",
       "      <td>0</td>\n",
       "      <td>0</td>\n",
       "      <td>2</td>\n",
       "      <td>0.234568</td>\n",
       "      <td>-1.033381</td>\n",
       "      <td>0.311967</td>\n",
       "      <td>-0.458886</td>\n",
       "      <td>-0.363202</td>\n",
       "      <td>-0.608656</td>\n",
       "      <td>-0.024073</td>\n",
       "      <td>-0.406191</td>\n",
       "      <td>0.238399</td>\n",
       "    </tr>\n",
       "    <tr>\n",
       "      <th>2</th>\n",
       "      <td>1</td>\n",
       "      <td>0</td>\n",
       "      <td>2</td>\n",
       "      <td>0</td>\n",
       "      <td>0</td>\n",
       "      <td>2</td>\n",
       "      <td>0.014274</td>\n",
       "      <td>-1.154172</td>\n",
       "      <td>3.829840</td>\n",
       "      <td>5.771462</td>\n",
       "      <td>4.131537</td>\n",
       "      <td>0.809057</td>\n",
       "      <td>0.096044</td>\n",
       "      <td>-0.441167</td>\n",
       "      <td>9.388473</td>\n",
       "    </tr>\n",
       "  </tbody>\n",
       "</table>\n",
       "</div>"
      ],
      "text/plain": [
       "   is_location_exact  host_is_superhost  property_type  room_type  \\\n",
       "0                  1                  0              0          0   \n",
       "1                  1                  1              0          0   \n",
       "2                  1                  0              2          0   \n",
       "\n",
       "   instant_bookable  cancellation_policy  latitude  longitude  accommodates  \\\n",
       "0                 0                    1  0.168142  -1.202974      0.311967   \n",
       "1                 0                    2  0.234568  -1.033381      0.311967   \n",
       "2                 0                    2  0.014274  -1.154172      3.829840   \n",
       "\n",
       "   bathrooms  bedrooms  extra_people  minimum_nights  maximum_nights     price  \n",
       "0  -0.458886 -0.363202     -0.325113       -0.084131       -0.245880 -0.482516  \n",
       "1  -0.458886 -0.363202     -0.608656       -0.024073       -0.406191  0.238399  \n",
       "2   5.771462  4.131537      0.809057        0.096044       -0.441167  9.388473  "
      ]
     },
     "execution_count": 55,
     "metadata": {},
     "output_type": "execute_result"
    }
   ],
   "source": [
    "data_v6 = data_v6.drop(columns = 'city')\n",
    "data_v6.head(3)"
   ]
  },
  {
   "cell_type": "code",
   "execution_count": 56,
   "metadata": {},
   "outputs": [],
   "source": [
    "from sklearn import model_selection\n",
    "y = data_v6.price\n",
    "x = data_v6.drop(columns = ['price'], axis =1)\n",
    "\n",
    "#split into train and test set\n",
    "x_train,x_test,y_train,y_test = model_selection.train_test_split(x,y,test_size = 0.25,random_state = 42)"
   ]
  },
  {
   "cell_type": "code",
   "execution_count": 57,
   "metadata": {},
   "outputs": [
    {
     "data": {
      "text/plain": [
       "-0.004069782140361244"
      ]
     },
     "execution_count": 57,
     "metadata": {},
     "output_type": "execute_result"
    }
   ],
   "source": [
    "#build baseline model\n",
    "from sklearn.dummy import DummyRegressor\n",
    "dr = DummyRegressor()\n",
    "dr.fit(x_train,y_train)\n",
    "dr.score(x_test,y_test)\n",
    "#negative means bad model"
   ]
  },
  {
   "cell_type": "code",
   "execution_count": 53,
   "metadata": {},
   "outputs": [],
   "source": [
    "from sklearn.linear_model import LinearRegression"
   ]
  },
  {
   "cell_type": "code",
   "execution_count": 60,
   "metadata": {},
   "outputs": [
    {
     "data": {
      "text/plain": [
       "LinearRegression(copy_X=True, fit_intercept=True, n_jobs=None, normalize=False)"
      ]
     },
     "execution_count": 60,
     "metadata": {},
     "output_type": "execute_result"
    }
   ],
   "source": [
    "#build linear model\n",
    "lr = LinearRegression()\n",
    "lr.fit(x_train,y_train)"
   ]
  },
  {
   "cell_type": "code",
   "execution_count": 61,
   "metadata": {},
   "outputs": [
    {
     "data": {
      "text/plain": [
       "0.5177056163004196"
      ]
     },
     "execution_count": 61,
     "metadata": {},
     "output_type": "execute_result"
    }
   ],
   "source": [
    "#check the testingset result\n",
    "lr.score(x_test,y_test)"
   ]
  },
  {
   "cell_type": "code",
   "execution_count": 62,
   "metadata": {},
   "outputs": [
    {
     "data": {
      "text/plain": [
       "array([ 0.01443249,  0.006824  , -0.05249266, -0.40048056, -0.07598899,\n",
       "        0.01704322, -0.03091976, -0.05883919,  0.19551052,  0.2351776 ,\n",
       "        0.28126436,  0.02773735, -0.01130773, -0.00334708])"
      ]
     },
     "execution_count": 62,
     "metadata": {},
     "output_type": "execute_result"
    }
   ],
   "source": [
    "lr.coef_"
   ]
  },
  {
   "cell_type": "code",
   "execution_count": 65,
   "metadata": {},
   "outputs": [
    {
     "data": {
      "image/png": "[encoded data removed]",
      "text/plain": [
       "<Figure size 432x288 with 1 Axes>"
      ]
     },
     "metadata": {},
     "output_type": "display_data"
    },
    {
     "data": {
      "text/plain": [
       "<matplotlib.axes._subplots.AxesSubplot at 0x7feeb8221450>"
      ]
     },
     "execution_count": 65,
     "metadata": {},
     "output_type": "execute_result"
    }
   ],
   "source": [
    "#check the feature importance\n",
    "import matplotlib.pyplot as plt\n",
    "from yellowbrick.features import FeatureImportances\n",
    "fig, ax = plt.subplots(figsize = (6,4))\n",
    "fi_viz = FeatureImportances(lr, labels = x.columns)\n",
    "fi_viz.fit(x,y)\n",
    "fi_viz.poof()"
   ]
  }
 ],
 "metadata": {
  "kernelspec": {
   "display_name": "Python 3",
   "language": "python",
   "name": "python3"
  },
  "language_info": {
   "codemirror_mode": {
    "name": "ipython",
    "version": 3
   },
   "file_extension": ".py",
   "mimetype": "text/x-python",
   "name": "python",
   "nbconvert_exporter": "python",
   "pygments_lexer": "ipython3",
   "version": "3.7.6"
  }
 },
 "nbformat": 4,
 "nbformat_minor": 4
}
